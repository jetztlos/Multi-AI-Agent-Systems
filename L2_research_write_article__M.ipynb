{
 "cells": [
  {
   "cell_type": "markdown",
   "metadata": {},
   "source": [
    "You can download the `requirements.txt` for this course from the workspace of this lab. `File --> Open...`"
   ]
  },
  {
   "cell_type": "markdown",
   "metadata": {},
   "source": [
    "# L2: Create Agents to Research and Write an Article\n",
    "\n",
    "In this lesson, you will be introduced to the foundational concepts of multi-agent systems and get an overview of the crewAI framework."
   ]
  },
  {
   "cell_type": "markdown",
   "metadata": {},
   "source": [
    "The libraries are already installed in the classroom. If you're running this notebook on your own machine, you can install the following:\n",
    "```Python\n",
    "!pip install crewai==0.28.8 crewai_tools==0.1.6 langchain_community==0.0.29\n",
    "```"
   ]
  },
  {
   "cell_type": "code",
   "execution_count": 1,
   "metadata": {
    "height": 64
   },
   "outputs": [],
   "source": [
    "# Warning control\n",
    "import warnings\n",
    "warnings.filterwarnings('ignore')"
   ]
  },
  {
   "cell_type": "markdown",
   "metadata": {},
   "source": [
    "- Import from the crewAI libray."
   ]
  },
  {
   "cell_type": "code",
   "execution_count": 2,
   "metadata": {
    "height": 30
   },
   "outputs": [],
   "source": [
    "from crewai import Agent, Task, Crew"
   ]
  },
  {
   "cell_type": "markdown",
   "metadata": {},
   "source": [
    "- As a LLM for your agents, you'll be using OpenAI's `gpt-3.5-turbo`.\n",
    "\n",
    "**Optional Note:** crewAI also allow other popular models to be used as a LLM for your Agents. You can see some of the examples at the [bottom of the notebook](#1)."
   ]
  },
  {
   "cell_type": "code",
   "execution_count": 3,
   "metadata": {
    "height": 119
   },
   "outputs": [],
   "source": [
    "import os\n",
    "from utils import get_openai_api_key\n",
    "\n",
    "openai_api_key = get_openai_api_key()\n",
    "os.environ[\"OPENAI_MODEL_NAME\"] = 'gpt-3.5-turbo'"
   ]
  },
  {
   "cell_type": "markdown",
   "metadata": {},
   "source": [
    "## Creating Agents\n",
    "\n",
    "- Define your Agents, and provide them a `role`, `goal` and `backstory`.\n",
    "- It has been seen that LLMs perform better when they are role playing."
   ]
  },
  {
   "cell_type": "markdown",
   "metadata": {},
   "source": [
    "### Agent: Planner\n",
    "\n",
    "**Note**: The benefit of using _multiple strings_ :\n",
    "```Python\n",
    "varname = \"line 1 of text\"\n",
    "          \"line 2 of text\"\n",
    "```\n",
    "\n",
    "versus the _triple quote docstring_:\n",
    "```Python\n",
    "varname = \"\"\"line 1 of text\n",
    "             line 2 of text\n",
    "          \"\"\"\n",
    "```\n",
    "is that it can avoid adding those whitespaces and newline characters, making it better formatted to be passed to the LLM."
   ]
  },
  {
   "cell_type": "code",
   "execution_count": 4,
   "metadata": {
    "height": 255
   },
   "outputs": [],
   "source": [
    "planner = Agent(\n",
    "    role=\"Content Planner\",\n",
    "    goal=\"Plan engaging and factually accurate content on {topic}\",\n",
    "    backstory=\"You're working on planning a blog article \"\n",
    "              \"about the topic: {topic}.\"\n",
    "              \"You collect information that helps the \"\n",
    "              \"audience learn something \"\n",
    "              \"and make informed decisions. \"\n",
    "              \"Your work is the basis for \"\n",
    "              \"the Content Writer to write an article on this topic.\",\n",
    "    allow_delegation=False,\n",
    "\tverbose=True\n",
    ")"
   ]
  },
  {
   "cell_type": "markdown",
   "metadata": {},
   "source": [
    "### Agent: Writer"
   ]
  },
  {
   "cell_type": "code",
   "execution_count": 5,
   "metadata": {
    "height": 391
   },
   "outputs": [],
   "source": [
    "writer = Agent(\n",
    "    role=\"Content Writer\",\n",
    "    goal=\"Write insightful and factually accurate \"\n",
    "         \"opinion piece about the topic: {topic}\",\n",
    "    backstory=\"You're working on a writing \"\n",
    "              \"a new opinion piece about the topic: {topic}. \"\n",
    "              \"You base your writing on the work of \"\n",
    "              \"the Content Planner, who provides an outline \"\n",
    "              \"and relevant context about the topic. \"\n",
    "              \"You follow the main objectives and \"\n",
    "              \"direction of the outline, \"\n",
    "              \"as provide by the Content Planner. \"\n",
    "              \"You also provide objective and impartial insights \"\n",
    "              \"and back them up with information \"\n",
    "              \"provide by the Content Planner. \"\n",
    "              \"You acknowledge in your opinion piece \"\n",
    "              \"when your statements are opinions \"\n",
    "              \"as opposed to objective statements.\",\n",
    "    allow_delegation=False,\n",
    "    verbose=True\n",
    ")"
   ]
  },
  {
   "cell_type": "markdown",
   "metadata": {},
   "source": [
    "### Agent: Editor"
   ]
  },
  {
   "cell_type": "code",
   "execution_count": 6,
   "metadata": {
    "height": 289
   },
   "outputs": [],
   "source": [
    "editor = Agent(\n",
    "    role=\"Editor\",\n",
    "    goal=\"Edit a given blog post to align with \"\n",
    "         \"the writing style of the organization. \",\n",
    "    backstory=\"You are an editor who receives a blog post \"\n",
    "              \"from the Content Writer. \"\n",
    "              \"Your goal is to review the blog post \"\n",
    "              \"to ensure that it follows journalistic best practices,\"\n",
    "              \"provides balanced viewpoints \"\n",
    "              \"when providing opinions or assertions, \"\n",
    "              \"and also avoids major controversial topics \"\n",
    "              \"or opinions when possible.\",\n",
    "    allow_delegation=False,\n",
    "    verbose=True\n",
    ")"
   ]
  },
  {
   "cell_type": "markdown",
   "metadata": {},
   "source": [
    "## Creating Tasks\n",
    "\n",
    "- Define your Tasks, and provide them a `description`, `expected_output` and `agent`."
   ]
  },
  {
   "cell_type": "markdown",
   "metadata": {},
   "source": [
    "### Task: Plan"
   ]
  },
  {
   "cell_type": "code",
   "execution_count": 7,
   "metadata": {
    "height": 289
   },
   "outputs": [],
   "source": [
    "plan = Task(\n",
    "    description=(\n",
    "        \"1. Prioritize the latest trends, key players, \"\n",
    "            \"and noteworthy news on {topic}.\\n\"\n",
    "        \"2. Identify the target audience, considering \"\n",
    "            \"their interests and pain points.\\n\"\n",
    "        \"3. Develop a detailed content outline including \"\n",
    "            \"an introduction, key points, and a call to action.\\n\"\n",
    "        \"4. Include SEO keywords and relevant data or sources.\"\n",
    "    ),\n",
    "    expected_output=\"A comprehensive content plan document \"\n",
    "        \"with an outline, audience analysis, \"\n",
    "        \"SEO keywords, and resources.\",\n",
    "    agent=planner,\n",
    ")"
   ]
  },
  {
   "cell_type": "markdown",
   "metadata": {},
   "source": [
    "### Task: Write"
   ]
  },
  {
   "cell_type": "code",
   "execution_count": 8,
   "metadata": {
    "height": 340
   },
   "outputs": [],
   "source": [
    "write = Task(\n",
    "    description=(\n",
    "        \"1. Use the content plan to craft a compelling \"\n",
    "            \"blog post on {topic}.\\n\"\n",
    "        \"2. Incorporate SEO keywords naturally.\\n\"\n",
    "\t\t\"3. Sections/Subtitles are properly named \"\n",
    "            \"in an engaging manner.\\n\"\n",
    "        \"4. Ensure the post is structured with an \"\n",
    "            \"engaging introduction, insightful body, \"\n",
    "            \"and a summarizing conclusion.\\n\"\n",
    "        \"5. Proofread for grammatical errors and \"\n",
    "            \"alignment with the brand's voice.\\n\"\n",
    "    ),\n",
    "    expected_output=\"A well-written blog post \"\n",
    "        \"in markdown format, ready for publication, \"\n",
    "        \"each section should have 2 or 3 paragraphs.\",\n",
    "    agent=writer,\n",
    ")"
   ]
  },
  {
   "cell_type": "markdown",
   "metadata": {},
   "source": [
    "### Task: Edit"
   ]
  },
  {
   "cell_type": "code",
   "execution_count": 9,
   "metadata": {
    "height": 187
   },
   "outputs": [],
   "source": [
    "edit = Task(\n",
    "    description=(\"Proofread the given blog post for \"\n",
    "                 \"grammatical errors and \"\n",
    "                 \"alignment with the brand's voice.\"),\n",
    "    expected_output=\"A well-written blog post in markdown format, \"\n",
    "                    \"ready for publication, \"\n",
    "                    \"each section should have 2 or 3 paragraphs.\",\n",
    "    agent=editor\n",
    ")"
   ]
  },
  {
   "cell_type": "markdown",
   "metadata": {},
   "source": [
    "## Creating the Crew\n",
    "\n",
    "- Create your crew of Agents\n",
    "- Pass the tasks to be performed by those agents.\n",
    "    - **Note**: *For this simple example*, the tasks will be performed sequentially (i.e they are dependent on each other), so the _order_ of the task in the list _matters_.\n",
    "- `verbose=2` allows you to see all the logs of the execution. "
   ]
  },
  {
   "cell_type": "code",
   "execution_count": 10,
   "metadata": {
    "height": 98
   },
   "outputs": [],
   "source": [
    "crew = Crew(\n",
    "    agents=[planner, writer, editor],\n",
    "    tasks=[plan, write, edit],\n",
    "    verbose=2\n",
    ")"
   ]
  },
  {
   "cell_type": "markdown",
   "metadata": {},
   "source": [
    "## Running the Crew"
   ]
  },
  {
   "cell_type": "markdown",
   "metadata": {},
   "source": [
    "**Note**: LLMs can provide different outputs for they same input, so what you get might be different than what you see in the video."
   ]
  },
  {
   "cell_type": "code",
   "execution_count": 11,
   "metadata": {
    "height": 51
   },
   "outputs": [
    {
     "name": "stdout",
     "output_type": "stream",
     "text": [
      "\u001b[1m\u001b[95m [DEBUG]: == Working Agent: Content Planner\u001b[00m\n",
      "\u001b[1m\u001b[95m [INFO]: == Starting Task: 1. Prioritize the latest trends, key players, and noteworthy news on Artificial Intelligence.\n",
      "2. Identify the target audience, considering their interests and pain points.\n",
      "3. Develop a detailed content outline including an introduction, key points, and a call to action.\n",
      "4. Include SEO keywords and relevant data or sources.\u001b[00m\n",
      "\n",
      "\n",
      "\u001b[1m> Entering new CrewAgentExecutor chain...\u001b[0m\n",
      "\u001b[32;1m\u001b[1;3mI now can give a great answer\n",
      "\n",
      "Final Answer: \n",
      "\n",
      "Title: The Future of Artificial Intelligence: Trends, Players, and News\n",
      "\n",
      "Introduction:\n",
      "- Brief overview of the current state of Artificial Intelligence\n",
      "- Mention the rapid advancements and potential impact on various industries\n",
      "\n",
      "Key Points:\n",
      "1. Latest Trends in Artificial Intelligence:\n",
      "- Advancements in machine learning algorithms\n",
      "- Growth of AI in healthcare, finance, and automotive industries\n",
      "- Integration of AI in everyday products like smart speakers and virtual assistants\n",
      "\n",
      "2. Key Players in the AI Industry:\n",
      "- Google, Microsoft, and Amazon leading in AI research and development\n",
      "- Startups making significant contributions in niche areas of AI\n",
      "- Collaboration between tech giants and academia for further innovation\n",
      "\n",
      "3. Noteworthy News in Artificial Intelligence:\n",
      "- Breakthroughs in natural language processing and computer vision\n",
      "- Ethical considerations in AI development and deployment\n",
      "- AI applications in tackling global challenges like climate change and healthcare disparities\n",
      "\n",
      "Audience Analysis:\n",
      "- Target audience includes tech enthusiasts, business professionals, and students interested in AI\n",
      "- Interests include staying updated on latest technology trends, understanding AI's potential impact on society, and exploring career opportunities in AI\n",
      "\n",
      "SEO Keywords:\n",
      "- Artificial Intelligence trends\n",
      "- Top AI companies\n",
      "- AI news updates\n",
      "- Future of AI technology\n",
      "\n",
      "Call to Action:\n",
      "- Encourage readers to subscribe to the blog for future updates on Artificial Intelligence\n",
      "- Prompt them to explore related articles on AI applications and career opportunities\n",
      "\n",
      "Resources:\n",
      "1. \"The AI Revolution: The Road to Superintelligence\" - Wait But Why\n",
      "2. \"Artificial Intelligence: A Modern Approach\" - Stuart Russell and Peter Norvig\n",
      "3. Forbes AI section\n",
      "4. MIT Technology Review AI news\n",
      "\n",
      "Overall, this content plan aims to provide a comprehensive overview of Artificial Intelligence, covering the latest trends, key players, and noteworthy news in the industry. By targeting a diverse audience and incorporating relevant SEO keywords and resources, the blog article will engage readers and provide valuable insights into the future of AI.\u001b[0m\n",
      "\n",
      "\u001b[1m> Finished chain.\u001b[0m\n",
      "\u001b[1m\u001b[92m [DEBUG]: == [Content Planner] Task output: Title: The Future of Artificial Intelligence: Trends, Players, and News\n",
      "\n",
      "Introduction:\n",
      "- Brief overview of the current state of Artificial Intelligence\n",
      "- Mention the rapid advancements and potential impact on various industries\n",
      "\n",
      "Key Points:\n",
      "1. Latest Trends in Artificial Intelligence:\n",
      "- Advancements in machine learning algorithms\n",
      "- Growth of AI in healthcare, finance, and automotive industries\n",
      "- Integration of AI in everyday products like smart speakers and virtual assistants\n",
      "\n",
      "2. Key Players in the AI Industry:\n",
      "- Google, Microsoft, and Amazon leading in AI research and development\n",
      "- Startups making significant contributions in niche areas of AI\n",
      "- Collaboration between tech giants and academia for further innovation\n",
      "\n",
      "3. Noteworthy News in Artificial Intelligence:\n",
      "- Breakthroughs in natural language processing and computer vision\n",
      "- Ethical considerations in AI development and deployment\n",
      "- AI applications in tackling global challenges like climate change and healthcare disparities\n",
      "\n",
      "Audience Analysis:\n",
      "- Target audience includes tech enthusiasts, business professionals, and students interested in AI\n",
      "- Interests include staying updated on latest technology trends, understanding AI's potential impact on society, and exploring career opportunities in AI\n",
      "\n",
      "SEO Keywords:\n",
      "- Artificial Intelligence trends\n",
      "- Top AI companies\n",
      "- AI news updates\n",
      "- Future of AI technology\n",
      "\n",
      "Call to Action:\n",
      "- Encourage readers to subscribe to the blog for future updates on Artificial Intelligence\n",
      "- Prompt them to explore related articles on AI applications and career opportunities\n",
      "\n",
      "Resources:\n",
      "1. \"The AI Revolution: The Road to Superintelligence\" - Wait But Why\n",
      "2. \"Artificial Intelligence: A Modern Approach\" - Stuart Russell and Peter Norvig\n",
      "3. Forbes AI section\n",
      "4. MIT Technology Review AI news\n",
      "\n",
      "Overall, this content plan aims to provide a comprehensive overview of Artificial Intelligence, covering the latest trends, key players, and noteworthy news in the industry. By targeting a diverse audience and incorporating relevant SEO keywords and resources, the blog article will engage readers and provide valuable insights into the future of AI.\n",
      "\n",
      "\u001b[00m\n",
      "\u001b[1m\u001b[95m [DEBUG]: == Working Agent: Content Writer\u001b[00m\n",
      "\u001b[1m\u001b[95m [INFO]: == Starting Task: 1. Use the content plan to craft a compelling blog post on Artificial Intelligence.\n",
      "2. Incorporate SEO keywords naturally.\n",
      "3. Sections/Subtitles are properly named in an engaging manner.\n",
      "4. Ensure the post is structured with an engaging introduction, insightful body, and a summarizing conclusion.\n",
      "5. Proofread for grammatical errors and alignment with the brand's voice.\n",
      "\u001b[00m\n",
      "\n",
      "\n",
      "\u001b[1m> Entering new CrewAgentExecutor chain...\u001b[0m\n",
      "\u001b[32;1m\u001b[1;3mI now can give a great answer\n",
      "\n",
      "Final Answer:\n",
      "\n",
      "# The Future of Artificial Intelligence: Trends, Players, and News\n",
      "\n",
      "## Introduction\n",
      "\n",
      "Artificial Intelligence (AI) has become a transformative force in today's technology landscape, with rapid advancements paving the way for unprecedented innovations across various industries. The current state of AI is characterized by breakthroughs in machine learning algorithms, leading to the integration of AI in everyday products and services. As we delve into the future of AI, it's crucial to explore the latest trends, key players in the industry, and noteworthy news shaping the landscape of artificial intelligence.\n",
      "\n",
      "## Latest Trends in Artificial Intelligence\n",
      "\n",
      "Advancements in machine learning algorithms have been a driving force behind the evolution of AI, enabling machines to learn from data and improve their performance over time. This has led to the growth of AI in key sectors such as healthcare, finance, and automotive industries, where AI-powered solutions are revolutionizing processes and enhancing efficiency. Moreover, the integration of AI in everyday products like smart speakers and virtual assistants has become increasingly prevalent, showcasing the widespread adoption of AI technologies in our daily lives.\n",
      "\n",
      "## Key Players in the AI Industry\n",
      "\n",
      "Leading tech giants such as Google, Microsoft, and Amazon are at the forefront of AI research and development, investing heavily in cutting-edge AI technologies and solutions. Additionally, startups are making significant contributions in niche areas of AI, focusing on specialized applications and innovations. Collaboration between tech giants and academia has also played a crucial role in driving further innovation in the AI industry, with joint efforts aimed at pushing the boundaries of AI capabilities and exploring new frontiers.\n",
      "\n",
      "## Noteworthy News in Artificial Intelligence\n",
      "\n",
      "Recent breakthroughs in natural language processing and computer vision have propelled AI to new heights, enabling machines to interpret and analyze complex data with unprecedented accuracy. However, ethical considerations in AI development and deployment have emerged as a critical issue, raising questions about the responsible use of AI technologies and the potential impact on society. Moreover, AI applications are increasingly being leveraged to tackle global challenges such as climate change and healthcare disparities, highlighting the transformative potential of AI in addressing pressing issues facing our world.\n",
      "\n",
      "## Audience Analysis\n",
      "\n",
      "Our target audience includes tech enthusiasts, business professionals, and students interested in AI, seeking to stay updated on the latest technology trends and understand AI's potential impact on society. By exploring the future of AI technology and its implications, readers can gain valuable insights into the opportunities and challenges presented by the AI revolution. Furthermore, exploring career opportunities in AI can provide a roadmap for individuals looking to pursue a career in this rapidly evolving field.\n",
      "\n",
      "## Call to Action\n",
      "\n",
      "We encourage readers to subscribe to our blog for future updates on Artificial Intelligence, ensuring they stay informed about the latest trends and developments in the AI industry. Additionally, we prompt them to explore related articles on AI applications and career opportunities, providing valuable resources and insights to support their journey into the world of artificial intelligence.\n",
      "\n",
      "In conclusion, the future of Artificial Intelligence is brimming with possibilities, driven by the latest trends, key players, and noteworthy news shaping the industry. By staying informed and engaged with the evolving landscape of AI, we can harness the transformative power of artificial intelligence to drive innovation, address global challenges, and shape a brighter future for generations to come.\u001b[0m\n",
      "\n",
      "\u001b[1m> Finished chain.\u001b[0m\n",
      "\u001b[1m\u001b[92m [DEBUG]: == [Content Writer] Task output: # The Future of Artificial Intelligence: Trends, Players, and News\n",
      "\n",
      "## Introduction\n",
      "\n",
      "Artificial Intelligence (AI) has become a transformative force in today's technology landscape, with rapid advancements paving the way for unprecedented innovations across various industries. The current state of AI is characterized by breakthroughs in machine learning algorithms, leading to the integration of AI in everyday products and services. As we delve into the future of AI, it's crucial to explore the latest trends, key players in the industry, and noteworthy news shaping the landscape of artificial intelligence.\n",
      "\n",
      "## Latest Trends in Artificial Intelligence\n",
      "\n",
      "Advancements in machine learning algorithms have been a driving force behind the evolution of AI, enabling machines to learn from data and improve their performance over time. This has led to the growth of AI in key sectors such as healthcare, finance, and automotive industries, where AI-powered solutions are revolutionizing processes and enhancing efficiency. Moreover, the integration of AI in everyday products like smart speakers and virtual assistants has become increasingly prevalent, showcasing the widespread adoption of AI technologies in our daily lives.\n",
      "\n",
      "## Key Players in the AI Industry\n",
      "\n",
      "Leading tech giants such as Google, Microsoft, and Amazon are at the forefront of AI research and development, investing heavily in cutting-edge AI technologies and solutions. Additionally, startups are making significant contributions in niche areas of AI, focusing on specialized applications and innovations. Collaboration between tech giants and academia has also played a crucial role in driving further innovation in the AI industry, with joint efforts aimed at pushing the boundaries of AI capabilities and exploring new frontiers.\n",
      "\n",
      "## Noteworthy News in Artificial Intelligence\n",
      "\n",
      "Recent breakthroughs in natural language processing and computer vision have propelled AI to new heights, enabling machines to interpret and analyze complex data with unprecedented accuracy. However, ethical considerations in AI development and deployment have emerged as a critical issue, raising questions about the responsible use of AI technologies and the potential impact on society. Moreover, AI applications are increasingly being leveraged to tackle global challenges such as climate change and healthcare disparities, highlighting the transformative potential of AI in addressing pressing issues facing our world.\n",
      "\n",
      "## Audience Analysis\n",
      "\n",
      "Our target audience includes tech enthusiasts, business professionals, and students interested in AI, seeking to stay updated on the latest technology trends and understand AI's potential impact on society. By exploring the future of AI technology and its implications, readers can gain valuable insights into the opportunities and challenges presented by the AI revolution. Furthermore, exploring career opportunities in AI can provide a roadmap for individuals looking to pursue a career in this rapidly evolving field.\n",
      "\n",
      "## Call to Action\n",
      "\n",
      "We encourage readers to subscribe to our blog for future updates on Artificial Intelligence, ensuring they stay informed about the latest trends and developments in the AI industry. Additionally, we prompt them to explore related articles on AI applications and career opportunities, providing valuable resources and insights to support their journey into the world of artificial intelligence.\n",
      "\n",
      "In conclusion, the future of Artificial Intelligence is brimming with possibilities, driven by the latest trends, key players, and noteworthy news shaping the industry. By staying informed and engaged with the evolving landscape of AI, we can harness the transformative power of artificial intelligence to drive innovation, address global challenges, and shape a brighter future for generations to come.\n",
      "\n",
      "\u001b[00m\n",
      "\u001b[1m\u001b[95m [DEBUG]: == Working Agent: Editor\u001b[00m\n",
      "\u001b[1m\u001b[95m [INFO]: == Starting Task: Proofread the given blog post for grammatical errors and alignment with the brand's voice.\u001b[00m\n",
      "\n",
      "\n",
      "\u001b[1m> Entering new CrewAgentExecutor chain...\u001b[0m\n"
     ]
    },
    {
     "name": "stdout",
     "output_type": "stream",
     "text": [
      "\u001b[32;1m\u001b[1;3mI now can give a great answer\n",
      "\n",
      "Final Answer:\n",
      "\n",
      "# The Future of Artificial Intelligence: Trends, Players, and News\n",
      "\n",
      "## Introduction\n",
      "\n",
      "Artificial Intelligence (AI) has become a transformative force in today's technology landscape, with rapid advancements paving the way for unprecedented innovations across various industries. The current state of AI is characterized by breakthroughs in machine learning algorithms, leading to the integration of AI in everyday products and services. As we delve into the future of AI, it's crucial to explore the latest trends, key players in the industry, and noteworthy news shaping the landscape of artificial intelligence.\n",
      "\n",
      "## Latest Trends in Artificial Intelligence\n",
      "\n",
      "Advancements in machine learning algorithms have been a driving force behind the evolution of AI, enabling machines to learn from data and improve their performance over time. This has led to the growth of AI in key sectors such as healthcare, finance, and automotive industries, where AI-powered solutions are revolutionizing processes and enhancing efficiency. Moreover, the integration of AI in everyday products like smart speakers and virtual assistants has become increasingly prevalent, showcasing the widespread adoption of AI technologies in our daily lives.\n",
      "\n",
      "## Key Players in the AI Industry\n",
      "\n",
      "Leading tech giants such as Google, Microsoft, and Amazon are at the forefront of AI research and development, investing heavily in cutting-edge AI technologies and solutions. Additionally, startups are making significant contributions in niche areas of AI, focusing on specialized applications and innovations. Collaboration between tech giants and academia has also played a crucial role in driving further innovation in the AI industry, with joint efforts aimed at pushing the boundaries of AI capabilities and exploring new frontiers.\n",
      "\n",
      "## Noteworthy News in Artificial Intelligence\n",
      "\n",
      "Recent breakthroughs in natural language processing and computer vision have propelled AI to new heights, enabling machines to interpret and analyze complex data with unprecedented accuracy. However, ethical considerations in AI development and deployment have emerged as a critical issue, raising questions about the responsible use of AI technologies and the potential impact on society. Moreover, AI applications are increasingly being leveraged to tackle global challenges such as climate change and healthcare disparities, highlighting the transformative potential of AI in addressing pressing issues facing our world.\n",
      "\n",
      "## Audience Analysis\n",
      "\n",
      "Our target audience includes tech enthusiasts, business professionals, and students interested in AI, seeking to stay updated on the latest technology trends and understand AI's potential impact on society. By exploring the future of AI technology and its implications, readers can gain valuable insights into the opportunities and challenges presented by the AI revolution. Furthermore, exploring career opportunities in AI can provide a roadmap for individuals looking to pursue a career in this rapidly evolving field.\n",
      "\n",
      "## Call to Action\n",
      "\n",
      "We encourage readers to subscribe to our blog for future updates on Artificial Intelligence, ensuring they stay informed about the latest trends and developments in the AI industry. Additionally, we prompt them to explore related articles on AI applications and career opportunities, providing valuable resources and insights to support their journey into the world of artificial intelligence.\n",
      "\n",
      "In conclusion, the future of Artificial Intelligence is brimming with possibilities, driven by the latest trends, key players, and noteworthy news shaping the industry. By staying informed and engaged with the evolving landscape of AI, we can harness the transformative power of artificial intelligence to drive innovation, address global challenges, and shape a brighter future for generations to come.\u001b[0m\n",
      "\n",
      "\u001b[1m> Finished chain.\u001b[0m\n",
      "\u001b[1m\u001b[92m [DEBUG]: == [Editor] Task output: # The Future of Artificial Intelligence: Trends, Players, and News\n",
      "\n",
      "## Introduction\n",
      "\n",
      "Artificial Intelligence (AI) has become a transformative force in today's technology landscape, with rapid advancements paving the way for unprecedented innovations across various industries. The current state of AI is characterized by breakthroughs in machine learning algorithms, leading to the integration of AI in everyday products and services. As we delve into the future of AI, it's crucial to explore the latest trends, key players in the industry, and noteworthy news shaping the landscape of artificial intelligence.\n",
      "\n",
      "## Latest Trends in Artificial Intelligence\n",
      "\n",
      "Advancements in machine learning algorithms have been a driving force behind the evolution of AI, enabling machines to learn from data and improve their performance over time. This has led to the growth of AI in key sectors such as healthcare, finance, and automotive industries, where AI-powered solutions are revolutionizing processes and enhancing efficiency. Moreover, the integration of AI in everyday products like smart speakers and virtual assistants has become increasingly prevalent, showcasing the widespread adoption of AI technologies in our daily lives.\n",
      "\n",
      "## Key Players in the AI Industry\n",
      "\n",
      "Leading tech giants such as Google, Microsoft, and Amazon are at the forefront of AI research and development, investing heavily in cutting-edge AI technologies and solutions. Additionally, startups are making significant contributions in niche areas of AI, focusing on specialized applications and innovations. Collaboration between tech giants and academia has also played a crucial role in driving further innovation in the AI industry, with joint efforts aimed at pushing the boundaries of AI capabilities and exploring new frontiers.\n",
      "\n",
      "## Noteworthy News in Artificial Intelligence\n",
      "\n",
      "Recent breakthroughs in natural language processing and computer vision have propelled AI to new heights, enabling machines to interpret and analyze complex data with unprecedented accuracy. However, ethical considerations in AI development and deployment have emerged as a critical issue, raising questions about the responsible use of AI technologies and the potential impact on society. Moreover, AI applications are increasingly being leveraged to tackle global challenges such as climate change and healthcare disparities, highlighting the transformative potential of AI in addressing pressing issues facing our world.\n",
      "\n",
      "## Audience Analysis\n",
      "\n",
      "Our target audience includes tech enthusiasts, business professionals, and students interested in AI, seeking to stay updated on the latest technology trends and understand AI's potential impact on society. By exploring the future of AI technology and its implications, readers can gain valuable insights into the opportunities and challenges presented by the AI revolution. Furthermore, exploring career opportunities in AI can provide a roadmap for individuals looking to pursue a career in this rapidly evolving field.\n",
      "\n",
      "## Call to Action\n",
      "\n",
      "We encourage readers to subscribe to our blog for future updates on Artificial Intelligence, ensuring they stay informed about the latest trends and developments in the AI industry. Additionally, we prompt them to explore related articles on AI applications and career opportunities, providing valuable resources and insights to support their journey into the world of artificial intelligence.\n",
      "\n",
      "In conclusion, the future of Artificial Intelligence is brimming with possibilities, driven by the latest trends, key players, and noteworthy news shaping the industry. By staying informed and engaged with the evolving landscape of AI, we can harness the transformative power of artificial intelligence to drive innovation, address global challenges, and shape a brighter future for generations to come.\n",
      "\n",
      "\u001b[00m\n"
     ]
    }
   ],
   "source": [
    "result = crew.kickoff(inputs={\"topic\": \"Artificial Intelligence\"})"
   ]
  },
  {
   "cell_type": "markdown",
   "metadata": {},
   "source": [
    "- Display the results of your execution as markdown in the notebook."
   ]
  },
  {
   "cell_type": "code",
   "execution_count": 12,
   "metadata": {
    "height": 47
   },
   "outputs": [
    {
     "data": {
      "text/markdown": [
       "# The Future of Artificial Intelligence: Trends, Players, and News\n",
       "\n",
       "## Introduction\n",
       "\n",
       "Artificial Intelligence (AI) has become a transformative force in today's technology landscape, with rapid advancements paving the way for unprecedented innovations across various industries. The current state of AI is characterized by breakthroughs in machine learning algorithms, leading to the integration of AI in everyday products and services. As we delve into the future of AI, it's crucial to explore the latest trends, key players in the industry, and noteworthy news shaping the landscape of artificial intelligence.\n",
       "\n",
       "## Latest Trends in Artificial Intelligence\n",
       "\n",
       "Advancements in machine learning algorithms have been a driving force behind the evolution of AI, enabling machines to learn from data and improve their performance over time. This has led to the growth of AI in key sectors such as healthcare, finance, and automotive industries, where AI-powered solutions are revolutionizing processes and enhancing efficiency. Moreover, the integration of AI in everyday products like smart speakers and virtual assistants has become increasingly prevalent, showcasing the widespread adoption of AI technologies in our daily lives.\n",
       "\n",
       "## Key Players in the AI Industry\n",
       "\n",
       "Leading tech giants such as Google, Microsoft, and Amazon are at the forefront of AI research and development, investing heavily in cutting-edge AI technologies and solutions. Additionally, startups are making significant contributions in niche areas of AI, focusing on specialized applications and innovations. Collaboration between tech giants and academia has also played a crucial role in driving further innovation in the AI industry, with joint efforts aimed at pushing the boundaries of AI capabilities and exploring new frontiers.\n",
       "\n",
       "## Noteworthy News in Artificial Intelligence\n",
       "\n",
       "Recent breakthroughs in natural language processing and computer vision have propelled AI to new heights, enabling machines to interpret and analyze complex data with unprecedented accuracy. However, ethical considerations in AI development and deployment have emerged as a critical issue, raising questions about the responsible use of AI technologies and the potential impact on society. Moreover, AI applications are increasingly being leveraged to tackle global challenges such as climate change and healthcare disparities, highlighting the transformative potential of AI in addressing pressing issues facing our world.\n",
       "\n",
       "## Audience Analysis\n",
       "\n",
       "Our target audience includes tech enthusiasts, business professionals, and students interested in AI, seeking to stay updated on the latest technology trends and understand AI's potential impact on society. By exploring the future of AI technology and its implications, readers can gain valuable insights into the opportunities and challenges presented by the AI revolution. Furthermore, exploring career opportunities in AI can provide a roadmap for individuals looking to pursue a career in this rapidly evolving field.\n",
       "\n",
       "## Call to Action\n",
       "\n",
       "We encourage readers to subscribe to our blog for future updates on Artificial Intelligence, ensuring they stay informed about the latest trends and developments in the AI industry. Additionally, we prompt them to explore related articles on AI applications and career opportunities, providing valuable resources and insights to support their journey into the world of artificial intelligence.\n",
       "\n",
       "In conclusion, the future of Artificial Intelligence is brimming with possibilities, driven by the latest trends, key players, and noteworthy news shaping the industry. By staying informed and engaged with the evolving landscape of AI, we can harness the transformative power of artificial intelligence to drive innovation, address global challenges, and shape a brighter future for generations to come."
      ],
      "text/plain": [
       "<IPython.core.display.Markdown object>"
      ]
     },
     "execution_count": 12,
     "metadata": {},
     "output_type": "execute_result"
    }
   ],
   "source": [
    "from IPython.display import Markdown\n",
    "Markdown(result)"
   ]
  },
  {
   "cell_type": "markdown",
   "metadata": {},
   "source": [
    "## Try it Yourself\n",
    "\n",
    "- Pass in a topic of your choice and see what the agents come up with!"
   ]
  },
  {
   "cell_type": "code",
   "execution_count": 13,
   "metadata": {
    "height": 68
   },
   "outputs": [
    {
     "name": "stdout",
     "output_type": "stream",
     "text": [
      "\u001b[1m\u001b[95m [DEBUG]: == Working Agent: Content Planner\u001b[00m\n",
      "\u001b[1m\u001b[95m [INFO]: == Starting Task: 1. Prioritize the latest trends, key players, and noteworthy news on compound AI systems.\n",
      "2. Identify the target audience, considering their interests and pain points.\n",
      "3. Develop a detailed content outline including an introduction, key points, and a call to action.\n",
      "4. Include SEO keywords and relevant data or sources.\u001b[00m\n",
      "\n",
      "\n",
      "\u001b[1m> Entering new CrewAgentExecutor chain...\u001b[0m\n",
      "\u001b[32;1m\u001b[1;3mI now can give a great answer\n",
      "\n",
      "Final Answer: \n",
      "\n",
      "Content Plan: \n",
      "Title: Unveiling the Power of Compound AI Systems\n",
      "\n",
      "Introduction:\n",
      "- Definition of compound AI systems\n",
      "- Importance and benefits of using compound AI systems\n",
      "- Brief overview of key players in the industry\n",
      "\n",
      "Key Points:\n",
      "1. Latest Trends in Compound AI Systems:\n",
      "- Advancements in machine learning algorithms\n",
      "- Integration of AI with IoT and big data analytics\n",
      "- Ethical considerations in developing compound AI systems\n",
      "\n",
      "2. Key Players in Compound AI Systems:\n",
      "- Google's DeepMind\n",
      "- IBM Watson\n",
      "- Microsoft Azure AI\n",
      "- Amazon Web Services AI\n",
      "\n",
      "3. Noteworthy News in Compound AI Systems:\n",
      "- Recent breakthroughs in natural language processing\n",
      "- Applications of compound AI in healthcare and finance sectors\n",
      "- Regulatory updates on AI technologies\n",
      "\n",
      "Audience Analysis:\n",
      "Target Audience: \n",
      "- Professionals in the tech industry\n",
      "- Data scientists and AI enthusiasts\n",
      "- Business owners looking to implement AI solutions\n",
      "Interests and Pain Points:\n",
      "- Interested in staying updated on the latest AI trends\n",
      "- Seeking insights on how to leverage AI for business growth\n",
      "- Concerned about the ethical implications of AI technologies\n",
      "\n",
      "SEO Keywords:\n",
      "- Compound AI systems\n",
      "- Machine learning advancements\n",
      "- AI integration with IoT\n",
      "- Ethical AI development\n",
      "- Deep learning algorithms\n",
      "- AI applications in healthcare\n",
      "- Regulatory updates on AI technologies\n",
      "\n",
      "Resources:\n",
      "1. \"The Age of AI: How Artificial Intelligence Is Transforming Business\" - Harvard Business Review\n",
      "2. \"AI Superpowers: China, Silicon Valley, and the New World Order\" by Kai-Fu Lee\n",
      "3. Forbes AI section for latest news and insights on AI technologies\n",
      "\n",
      "Call to Action:\n",
      "- Encourage readers to explore the potential of compound AI systems for their businesses\n",
      "- Invite them to subscribe for more updates on AI trends and developments\n",
      "\n",
      "This comprehensive content plan aims to provide valuable insights and information on compound AI systems for our target audience, ensuring engagement and relevance in the ever-evolving field of artificial intelligence.\u001b[0m\n",
      "\n",
      "\u001b[1m> Finished chain.\u001b[0m\n",
      "\u001b[1m\u001b[92m [DEBUG]: == [Content Planner] Task output: Content Plan: \n",
      "Title: Unveiling the Power of Compound AI Systems\n",
      "\n",
      "Introduction:\n",
      "- Definition of compound AI systems\n",
      "- Importance and benefits of using compound AI systems\n",
      "- Brief overview of key players in the industry\n",
      "\n",
      "Key Points:\n",
      "1. Latest Trends in Compound AI Systems:\n",
      "- Advancements in machine learning algorithms\n",
      "- Integration of AI with IoT and big data analytics\n",
      "- Ethical considerations in developing compound AI systems\n",
      "\n",
      "2. Key Players in Compound AI Systems:\n",
      "- Google's DeepMind\n",
      "- IBM Watson\n",
      "- Microsoft Azure AI\n",
      "- Amazon Web Services AI\n",
      "\n",
      "3. Noteworthy News in Compound AI Systems:\n",
      "- Recent breakthroughs in natural language processing\n",
      "- Applications of compound AI in healthcare and finance sectors\n",
      "- Regulatory updates on AI technologies\n",
      "\n",
      "Audience Analysis:\n",
      "Target Audience: \n",
      "- Professionals in the tech industry\n",
      "- Data scientists and AI enthusiasts\n",
      "- Business owners looking to implement AI solutions\n",
      "Interests and Pain Points:\n",
      "- Interested in staying updated on the latest AI trends\n",
      "- Seeking insights on how to leverage AI for business growth\n",
      "- Concerned about the ethical implications of AI technologies\n",
      "\n",
      "SEO Keywords:\n",
      "- Compound AI systems\n",
      "- Machine learning advancements\n",
      "- AI integration with IoT\n",
      "- Ethical AI development\n",
      "- Deep learning algorithms\n",
      "- AI applications in healthcare\n",
      "- Regulatory updates on AI technologies\n",
      "\n",
      "Resources:\n",
      "1. \"The Age of AI: How Artificial Intelligence Is Transforming Business\" - Harvard Business Review\n",
      "2. \"AI Superpowers: China, Silicon Valley, and the New World Order\" by Kai-Fu Lee\n",
      "3. Forbes AI section for latest news and insights on AI technologies\n",
      "\n",
      "Call to Action:\n",
      "- Encourage readers to explore the potential of compound AI systems for their businesses\n",
      "- Invite them to subscribe for more updates on AI trends and developments\n",
      "\n",
      "This comprehensive content plan aims to provide valuable insights and information on compound AI systems for our target audience, ensuring engagement and relevance in the ever-evolving field of artificial intelligence.\n",
      "\n",
      "\u001b[00m\n",
      "\u001b[1m\u001b[95m [DEBUG]: == Working Agent: Content Writer\u001b[00m\n",
      "\u001b[1m\u001b[95m [INFO]: == Starting Task: 1. Use the content plan to craft a compelling blog post on compound AI systems.\n",
      "2. Incorporate SEO keywords naturally.\n",
      "3. Sections/Subtitles are properly named in an engaging manner.\n",
      "4. Ensure the post is structured with an engaging introduction, insightful body, and a summarizing conclusion.\n",
      "5. Proofread for grammatical errors and alignment with the brand's voice.\n",
      "\u001b[00m\n",
      "\n",
      "\n",
      "\u001b[1m> Entering new CrewAgentExecutor chain...\u001b[0m\n",
      "\u001b[32;1m\u001b[1;3mI have a clear understanding of the content plan and the objectives of the blog post. I am ready to craft a compelling piece on compound AI systems that will engage and inform the target audience.\n",
      "\n",
      "Final Answer:\n",
      "\n",
      "# Unveiling the Power of Compound AI Systems\n",
      "\n",
      "## Introduction\n",
      "In the rapidly evolving landscape of artificial intelligence, compound AI systems have emerged as a powerful tool that combines multiple AI technologies to achieve more complex tasks and deliver superior results. These systems leverage advancements in machine learning algorithms, integration with IoT and big data analytics, and ethical considerations to drive innovation and efficiency in various industries. Key players such as Google's DeepMind, IBM Watson, Microsoft Azure AI, and Amazon Web Services AI are at the forefront of developing and implementing compound AI solutions that are shaping the future of AI technology.\n",
      "\n",
      "## Latest Trends in Compound AI Systems\n",
      "One of the most notable trends in compound AI systems is the continuous advancements in machine learning algorithms. These algorithms are becoming more sophisticated and efficient, enabling AI systems to learn and adapt in real-time to changing environments and data inputs. The integration of AI with IoT and big data analytics is also driving innovation in compound AI systems, allowing for the seamless integration of AI technologies with connected devices and vast amounts of data for more accurate and insightful decision-making. Additionally, ethical considerations in developing compound AI systems have become a key focus, ensuring that AI technologies are developed and deployed responsibly and ethically.\n",
      "\n",
      "## Key Players in Compound AI Systems\n",
      "Google's DeepMind, known for its groundbreaking work in AI research and development, is a key player in the field of compound AI systems. IBM Watson, with its cognitive computing capabilities, is revolutionizing industries with its AI-powered solutions. Microsoft Azure AI and Amazon Web Services AI are also leading the way in developing innovative compound AI systems that are driving digital transformation across various sectors.\n",
      "\n",
      "## Noteworthy News in Compound AI Systems\n",
      "Recent breakthroughs in natural language processing have opened up new possibilities for compound AI systems, enabling more seamless interactions between humans and machines. The applications of compound AI in healthcare and finance sectors are also gaining traction, with AI technologies being used to improve patient care, streamline financial processes, and enhance decision-making. Regulatory updates on AI technologies are also shaping the landscape of compound AI systems, ensuring that AI technologies are developed and deployed in a responsible and transparent manner.\n",
      "\n",
      "As professionals in the tech industry, data scientists, and AI enthusiasts, it is essential to stay updated on the latest AI trends and developments, seek insights on how to leverage AI for business growth, and address concerns about the ethical implications of AI technologies. By exploring the potential of compound AI systems and staying informed about the latest advancements in the field, we can harness the power of AI technology to drive innovation and success in our respective industries.\n",
      "\n",
      "Remember to subscribe for more updates on AI trends and developments, and join us in the journey towards unlocking the full potential of compound AI systems for your business.\u001b[0m\n",
      "\n",
      "\u001b[1m> Finished chain.\u001b[0m\n",
      "\u001b[1m\u001b[92m [DEBUG]: == [Content Writer] Task output: # Unveiling the Power of Compound AI Systems\n",
      "\n",
      "## Introduction\n",
      "In the rapidly evolving landscape of artificial intelligence, compound AI systems have emerged as a powerful tool that combines multiple AI technologies to achieve more complex tasks and deliver superior results. These systems leverage advancements in machine learning algorithms, integration with IoT and big data analytics, and ethical considerations to drive innovation and efficiency in various industries. Key players such as Google's DeepMind, IBM Watson, Microsoft Azure AI, and Amazon Web Services AI are at the forefront of developing and implementing compound AI solutions that are shaping the future of AI technology.\n",
      "\n",
      "## Latest Trends in Compound AI Systems\n",
      "One of the most notable trends in compound AI systems is the continuous advancements in machine learning algorithms. These algorithms are becoming more sophisticated and efficient, enabling AI systems to learn and adapt in real-time to changing environments and data inputs. The integration of AI with IoT and big data analytics is also driving innovation in compound AI systems, allowing for the seamless integration of AI technologies with connected devices and vast amounts of data for more accurate and insightful decision-making. Additionally, ethical considerations in developing compound AI systems have become a key focus, ensuring that AI technologies are developed and deployed responsibly and ethically.\n",
      "\n",
      "## Key Players in Compound AI Systems\n",
      "Google's DeepMind, known for its groundbreaking work in AI research and development, is a key player in the field of compound AI systems. IBM Watson, with its cognitive computing capabilities, is revolutionizing industries with its AI-powered solutions. Microsoft Azure AI and Amazon Web Services AI are also leading the way in developing innovative compound AI systems that are driving digital transformation across various sectors.\n",
      "\n",
      "## Noteworthy News in Compound AI Systems\n",
      "Recent breakthroughs in natural language processing have opened up new possibilities for compound AI systems, enabling more seamless interactions between humans and machines. The applications of compound AI in healthcare and finance sectors are also gaining traction, with AI technologies being used to improve patient care, streamline financial processes, and enhance decision-making. Regulatory updates on AI technologies are also shaping the landscape of compound AI systems, ensuring that AI technologies are developed and deployed in a responsible and transparent manner.\n",
      "\n",
      "As professionals in the tech industry, data scientists, and AI enthusiasts, it is essential to stay updated on the latest AI trends and developments, seek insights on how to leverage AI for business growth, and address concerns about the ethical implications of AI technologies. By exploring the potential of compound AI systems and staying informed about the latest advancements in the field, we can harness the power of AI technology to drive innovation and success in our respective industries.\n",
      "\n",
      "Remember to subscribe for more updates on AI trends and developments, and join us in the journey towards unlocking the full potential of compound AI systems for your business.\n",
      "\n",
      "\u001b[00m\n",
      "\u001b[1m\u001b[95m [DEBUG]: == Working Agent: Editor\u001b[00m\n",
      "\u001b[1m\u001b[95m [INFO]: == Starting Task: Proofread the given blog post for grammatical errors and alignment with the brand's voice.\u001b[00m\n",
      "\n",
      "\n",
      "\u001b[1m> Entering new CrewAgentExecutor chain...\u001b[0m\n"
     ]
    },
    {
     "name": "stdout",
     "output_type": "stream",
     "text": [
      "\u001b[32;1m\u001b[1;3mI now can give a great answer\n",
      "\n",
      "Final Answer:\n",
      "# Unveiling the Power of Compound AI Systems\n",
      "\n",
      "## Introduction\n",
      "In the rapidly evolving landscape of artificial intelligence, compound AI systems have emerged as a powerful tool that combines multiple AI technologies to achieve more complex tasks and deliver superior results. These systems leverage advancements in machine learning algorithms, integration with IoT and big data analytics, and ethical considerations to drive innovation and efficiency in various industries. Key players such as Google's DeepMind, IBM Watson, Microsoft Azure AI, and Amazon Web Services AI are at the forefront of developing and implementing compound AI solutions that are shaping the future of AI technology.\n",
      "\n",
      "## Latest Trends in Compound AI Systems\n",
      "One of the most notable trends in compound AI systems is the continuous advancements in machine learning algorithms. These algorithms are becoming more sophisticated and efficient, enabling AI systems to learn and adapt in real-time to changing environments and data inputs. The integration of AI with IoT and big data analytics is also driving innovation in compound AI systems, allowing for the seamless integration of AI technologies with connected devices and vast amounts of data for more accurate and insightful decision-making. Additionally, ethical considerations in developing compound AI systems have become a key focus, ensuring that AI technologies are developed and deployed responsibly and ethically.\n",
      "\n",
      "## Key Players in Compound AI Systems\n",
      "Google's DeepMind, known for its groundbreaking work in AI research and development, is a key player in the field of compound AI systems. IBM Watson, with its cognitive computing capabilities, is revolutionizing industries with its AI-powered solutions. Microsoft Azure AI and Amazon Web Services AI are also leading the way in developing innovative compound AI systems that are driving digital transformation across various sectors.\n",
      "\n",
      "## Noteworthy News in Compound AI Systems\n",
      "Recent breakthroughs in natural language processing have opened up new possibilities for compound AI systems, enabling more seamless interactions between humans and machines. The applications of compound AI in healthcare and finance sectors are also gaining traction, with AI technologies being used to improve patient care, streamline financial processes, and enhance decision-making. Regulatory updates on AI technologies are also shaping the landscape of compound AI systems, ensuring that AI technologies are developed and deployed in a responsible and transparent manner.\n",
      "\n",
      "As professionals in the tech industry, data scientists, and AI enthusiasts, it is essential to stay updated on the latest AI trends and developments, seek insights on how to leverage AI for business growth, and address concerns about the ethical implications of AI technologies. By exploring the potential of compound AI systems and staying informed about the latest advancements in the field, we can harness the power of AI technology to drive innovation and success in our respective industries.\n",
      "\n",
      "Remember to subscribe for more updates on AI trends and developments, and join us in the journey towards unlocking the full potential of compound AI systems for your business.\u001b[0m\n",
      "\n",
      "\u001b[1m> Finished chain.\u001b[0m\n",
      "\u001b[1m\u001b[92m [DEBUG]: == [Editor] Task output: # Unveiling the Power of Compound AI Systems\n",
      "\n",
      "## Introduction\n",
      "In the rapidly evolving landscape of artificial intelligence, compound AI systems have emerged as a powerful tool that combines multiple AI technologies to achieve more complex tasks and deliver superior results. These systems leverage advancements in machine learning algorithms, integration with IoT and big data analytics, and ethical considerations to drive innovation and efficiency in various industries. Key players such as Google's DeepMind, IBM Watson, Microsoft Azure AI, and Amazon Web Services AI are at the forefront of developing and implementing compound AI solutions that are shaping the future of AI technology.\n",
      "\n",
      "## Latest Trends in Compound AI Systems\n",
      "One of the most notable trends in compound AI systems is the continuous advancements in machine learning algorithms. These algorithms are becoming more sophisticated and efficient, enabling AI systems to learn and adapt in real-time to changing environments and data inputs. The integration of AI with IoT and big data analytics is also driving innovation in compound AI systems, allowing for the seamless integration of AI technologies with connected devices and vast amounts of data for more accurate and insightful decision-making. Additionally, ethical considerations in developing compound AI systems have become a key focus, ensuring that AI technologies are developed and deployed responsibly and ethically.\n",
      "\n",
      "## Key Players in Compound AI Systems\n",
      "Google's DeepMind, known for its groundbreaking work in AI research and development, is a key player in the field of compound AI systems. IBM Watson, with its cognitive computing capabilities, is revolutionizing industries with its AI-powered solutions. Microsoft Azure AI and Amazon Web Services AI are also leading the way in developing innovative compound AI systems that are driving digital transformation across various sectors.\n",
      "\n",
      "## Noteworthy News in Compound AI Systems\n",
      "Recent breakthroughs in natural language processing have opened up new possibilities for compound AI systems, enabling more seamless interactions between humans and machines. The applications of compound AI in healthcare and finance sectors are also gaining traction, with AI technologies being used to improve patient care, streamline financial processes, and enhance decision-making. Regulatory updates on AI technologies are also shaping the landscape of compound AI systems, ensuring that AI technologies are developed and deployed in a responsible and transparent manner.\n",
      "\n",
      "As professionals in the tech industry, data scientists, and AI enthusiasts, it is essential to stay updated on the latest AI trends and developments, seek insights on how to leverage AI for business growth, and address concerns about the ethical implications of AI technologies. By exploring the potential of compound AI systems and staying informed about the latest advancements in the field, we can harness the power of AI technology to drive innovation and success in our respective industries.\n",
      "\n",
      "Remember to subscribe for more updates on AI trends and developments, and join us in the journey towards unlocking the full potential of compound AI systems for your business.\n",
      "\n",
      "\u001b[00m\n"
     ]
    }
   ],
   "source": [
    "topic = \"compound AI systems\"\n",
    "result = crew.kickoff(inputs={\"topic\": topic})"
   ]
  },
  {
   "cell_type": "code",
   "execution_count": 14,
   "metadata": {
    "height": 30
   },
   "outputs": [
    {
     "data": {
      "text/markdown": [
       "# Unveiling the Power of Compound AI Systems\n",
       "\n",
       "## Introduction\n",
       "In the rapidly evolving landscape of artificial intelligence, compound AI systems have emerged as a powerful tool that combines multiple AI technologies to achieve more complex tasks and deliver superior results. These systems leverage advancements in machine learning algorithms, integration with IoT and big data analytics, and ethical considerations to drive innovation and efficiency in various industries. Key players such as Google's DeepMind, IBM Watson, Microsoft Azure AI, and Amazon Web Services AI are at the forefront of developing and implementing compound AI solutions that are shaping the future of AI technology.\n",
       "\n",
       "## Latest Trends in Compound AI Systems\n",
       "One of the most notable trends in compound AI systems is the continuous advancements in machine learning algorithms. These algorithms are becoming more sophisticated and efficient, enabling AI systems to learn and adapt in real-time to changing environments and data inputs. The integration of AI with IoT and big data analytics is also driving innovation in compound AI systems, allowing for the seamless integration of AI technologies with connected devices and vast amounts of data for more accurate and insightful decision-making. Additionally, ethical considerations in developing compound AI systems have become a key focus, ensuring that AI technologies are developed and deployed responsibly and ethically.\n",
       "\n",
       "## Key Players in Compound AI Systems\n",
       "Google's DeepMind, known for its groundbreaking work in AI research and development, is a key player in the field of compound AI systems. IBM Watson, with its cognitive computing capabilities, is revolutionizing industries with its AI-powered solutions. Microsoft Azure AI and Amazon Web Services AI are also leading the way in developing innovative compound AI systems that are driving digital transformation across various sectors.\n",
       "\n",
       "## Noteworthy News in Compound AI Systems\n",
       "Recent breakthroughs in natural language processing have opened up new possibilities for compound AI systems, enabling more seamless interactions between humans and machines. The applications of compound AI in healthcare and finance sectors are also gaining traction, with AI technologies being used to improve patient care, streamline financial processes, and enhance decision-making. Regulatory updates on AI technologies are also shaping the landscape of compound AI systems, ensuring that AI technologies are developed and deployed in a responsible and transparent manner.\n",
       "\n",
       "As professionals in the tech industry, data scientists, and AI enthusiasts, it is essential to stay updated on the latest AI trends and developments, seek insights on how to leverage AI for business growth, and address concerns about the ethical implications of AI technologies. By exploring the potential of compound AI systems and staying informed about the latest advancements in the field, we can harness the power of AI technology to drive innovation and success in our respective industries.\n",
       "\n",
       "Remember to subscribe for more updates on AI trends and developments, and join us in the journey towards unlocking the full potential of compound AI systems for your business."
      ],
      "text/plain": [
       "<IPython.core.display.Markdown object>"
      ]
     },
     "execution_count": 14,
     "metadata": {},
     "output_type": "execute_result"
    }
   ],
   "source": [
    "Markdown(result)"
   ]
  },
  {
   "cell_type": "markdown",
   "metadata": {},
   "source": [
    "<a name='1'></a>\n",
    " ## Other Popular Models as LLM for your Agents"
   ]
  },
  {
   "cell_type": "markdown",
   "metadata": {},
   "source": [
    "#### Hugging Face (HuggingFaceHub endpoint)\n",
    "\n",
    "```Python\n",
    "from langchain_community.llms import HuggingFaceHub\n",
    "\n",
    "llm = HuggingFaceHub(\n",
    "    repo_id=\"HuggingFaceH4/zephyr-7b-beta\",\n",
    "    huggingfacehub_api_token=\"<HF_TOKEN_HERE>\",\n",
    "    task=\"text-generation\",\n",
    ")\n",
    "\n",
    "### you will pass \"llm\" to your agent function\n",
    "```"
   ]
  },
  {
   "cell_type": "markdown",
   "metadata": {},
   "source": [
    "#### Mistral API\n",
    "\n",
    "```Python\n",
    "OPENAI_API_KEY=your-mistral-api-key\n",
    "OPENAI_API_BASE=https://api.mistral.ai/v1\n",
    "OPENAI_MODEL_NAME=\"mistral-small\"\n",
    "```"
   ]
  },
  {
   "cell_type": "markdown",
   "metadata": {},
   "source": [
    "#### Cohere\n",
    "\n",
    "```Python\n",
    "from langchain_community.chat_models import ChatCohere\n",
    "# Initialize language model\n",
    "os.environ[\"COHERE_API_KEY\"] = \"your-cohere-api-key\"\n",
    "llm = ChatCohere()\n",
    "\n",
    "### you will pass \"llm\" to your agent function\n",
    "```"
   ]
  },
  {
   "cell_type": "markdown",
   "metadata": {},
   "source": [
    "### For using Llama locally with Ollama and more, checkout the crewAI documentation on [Connecting to any LLM](https://docs.crewai.com/how-to/LLM-Connections/)."
   ]
  },
  {
   "cell_type": "code",
   "execution_count": null,
   "metadata": {
    "height": 30
   },
   "outputs": [],
   "source": []
  },
  {
   "cell_type": "code",
   "execution_count": null,
   "metadata": {
    "height": 30
   },
   "outputs": [],
   "source": []
  },
  {
   "cell_type": "code",
   "execution_count": null,
   "metadata": {
    "height": 30
   },
   "outputs": [],
   "source": []
  }
 ],
 "metadata": {
  "colab": {
   "gpuType": "T4",
   "provenance": []
  },
  "kernelspec": {
   "display_name": "Python 3 (ipykernel)",
   "language": "python",
   "name": "python3"
  },
  "language_info": {
   "codemirror_mode": {
    "name": "ipython",
    "version": 3
   },
   "file_extension": ".py",
   "mimetype": "text/x-python",
   "name": "python",
   "nbconvert_exporter": "python",
   "pygments_lexer": "ipython3",
   "version": "3.11.9"
  }
 },
 "nbformat": 4,
 "nbformat_minor": 4
}
